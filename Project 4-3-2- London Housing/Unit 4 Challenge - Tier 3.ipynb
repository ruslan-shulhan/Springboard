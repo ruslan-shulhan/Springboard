{
 "cells": [
  {
   "cell_type": "markdown",
   "metadata": {
    "colab_type": "text",
    "id": "Tia3MP1SJpgj"
   },
   "source": [
    "# Springboard Data Science Career Track Unit 4 Challenge - Tier 3 Complete\n",
    "\n",
    "## Objectives\n",
    "Hey! Great job getting through those challenging DataCamp courses. You're learning a lot in a short span of time. \n",
    "\n",
    "In this notebook, you're going to apply the skills you've been learning, bridging the gap between the controlled environment of DataCamp and the *slightly* messier work that data scientists do with actual datasets!\n",
    "\n",
    "Here’s the mystery we’re going to solve: ***which boroughs of London have seen the greatest increase in housing prices, on average, over the last two decades?***\n",
    "\n",
    "\n",
    "A borough is just a fancy word for district. You may be familiar with the five boroughs of New York… well, there are 32 boroughs within Greater London [(here's some info for the curious)](https://en.wikipedia.org/wiki/London_boroughs). Some of them are more desirable areas to live in, and the data will reflect that with a greater rise in housing prices.\n",
    "\n",
    "***This is the Tier 3 notebook, which means it's not filled in at all: we'll just give you the skeleton of a project, the brief and the data. It's up to you to play around with it and see what you can find out! Good luck! If you struggle, feel free to look at easier tiers for help; but try to dip in and out of them, as the more independent work you do, the better it is for your learning!***\n",
    "\n",
    "This challenge will make use of only what you learned in the following DataCamp courses: \n",
    "- Prework courses (Introduction to Python for Data Science, Intermediate Python for Data Science)\n",
    "- Data Types for Data Science\n",
    "- Python Data Science Toolbox (Part One) \n",
    "- pandas Foundations\n",
    "- Manipulating DataFrames with pandas\n",
    "- Merging DataFrames with pandas\n",
    "\n",
    "Of the tools, techniques and concepts in the above DataCamp courses, this challenge should require the application of the following: \n",
    "- **pandas**\n",
    "    - **data ingestion and inspection** (pandas Foundations, Module One) \n",
    "    - **exploratory data analysis** (pandas Foundations, Module Two)\n",
    "    - **tidying and cleaning** (Manipulating DataFrames with pandas, Module Three) \n",
    "    - **transforming DataFrames** (Manipulating DataFrames with pandas, Module One)\n",
    "    - **subsetting DataFrames with lists** (Manipulating DataFrames with pandas, Module One) \n",
    "    - **filtering DataFrames** (Manipulating DataFrames with pandas, Module One) \n",
    "    - **grouping data** (Manipulating DataFrames with pandas, Module Four) \n",
    "    - **melting data** (Manipulating DataFrames with pandas, Module Three) \n",
    "    - **advanced indexing** (Manipulating DataFrames with pandas, Module Four) \n",
    "- **matplotlib** (Intermediate Python for Data Science, Module One)\n",
    "- **fundamental data types** (Data Types for Data Science, Module One) \n",
    "- **dictionaries** (Intermediate Python for Data Science, Module Two)\n",
    "- **handling dates and times** (Data Types for Data Science, Module Four)\n",
    "- **function definition** (Python Data Science Toolbox - Part One, Module One)\n",
    "- **default arguments, variable length, and scope** (Python Data Science Toolbox - Part One, Module Two) \n",
    "- **lambda functions and error handling** (Python Data Science Toolbox - Part One, Module Four) "
   ]
  },
  {
   "cell_type": "markdown",
   "metadata": {
    "colab_type": "text",
    "id": "Ipgd2nV8Jpgl"
   },
   "source": [
    "## The Data Science Pipeline\n",
    "\n",
    "This is Tier Three, so we'll get you started. But after that, it's all in your hands! When you feel done with your investigations, look back over what you've accomplished, and prepare a quick presentation of your findings for the next mentor meeting. \n",
    "\n",
    "Data Science is magical. In this case study, you'll get to apply some complex machine learning algorithms. But as  [David Spiegelhalter](https://www.youtube.com/watch?v=oUs1uvsz0Ok) reminds us, there is no substitute for simply **taking a really, really good look at the data.** Sometimes, this is all we need to answer our question.\n",
    "\n",
    "Data Science projects generally adhere to the four stages of Data Science Pipeline:\n",
    "1. Sourcing and loading \n",
    "2. Cleaning, transforming, and visualizing \n",
    "3. Modeling \n",
    "4. Evaluating and concluding \n"
   ]
  },
  {
   "cell_type": "markdown",
   "metadata": {
    "colab_type": "text",
    "id": "zswDqbefJpgm"
   },
   "source": [
    "### 1. Sourcing and Loading \n",
    "\n",
    "Any Data Science project kicks off by importing  ***pandas***. The documentation of this wonderful library can be found [here](https://pandas.pydata.org/). As you've seen, pandas is conveniently connected to the [Numpy](http://www.numpy.org/) and [Matplotlib](https://matplotlib.org/) libraries. \n",
    "\n",
    "***Hint:*** This part of the data science pipeline will test those skills you acquired in the pandas Foundations course, Module One. "
   ]
  },
  {
   "cell_type": "markdown",
   "metadata": {
    "colab_type": "text",
    "id": "aEau5nEvJpgm"
   },
   "source": [
    "#### 1.1. Importing Libraries"
   ]
  },
  {
   "cell_type": "code",
   "execution_count": 408,
   "metadata": {
    "colab": {},
    "colab_type": "code",
    "id": "7Bt_Q_oPJpgn"
   },
   "outputs": [],
   "source": [
    "# Let's import the pandas, numpy libraries as pd, and np respectively. \n",
    "import pandas as pd\n",
    "import numpy as np\n",
    "\n",
    "# Load the pyplot collection of functions from matplotlib, as plt \n",
    "import matplotlib.pyplot as plt\n",
    "from matplotlib.pyplot import *"
   ]
  },
  {
   "cell_type": "markdown",
   "metadata": {
    "colab_type": "text",
    "id": "koUrawxsJpgq"
   },
   "source": [
    "#### 1.2.  Loading the data\n",
    "Your data comes from the [London Datastore](https://data.london.gov.uk/): a free, open-source data-sharing portal for London-oriented datasets. "
   ]
  },
  {
   "cell_type": "code",
   "execution_count": 409,
   "metadata": {
    "colab": {},
    "colab_type": "code",
    "id": "AiLiD4v3Jpgr"
   },
   "outputs": [],
   "source": [
    "# First, make a variable called url_LondonHousePrices, and assign it the following link, enclosed in quotation-marks as a string:\n",
    "# https://data.london.gov.uk/download/uk-house-price-index/70ac0766-8902-4eb5-aab5-01951aaed773/UK%20House%20price%20index.xls\n",
    "\n",
    "url_LondonHousePrices = \"https://data.london.gov.uk/download/uk-house-price-index/70ac0766-8902-4eb5-aab5-01951aaed773/UK%20House%20price%20index.xls\"\n",
    "\n",
    "# The dataset we're interested in contains the Average prices of the houses, and is actually on a particular sheet of the Excel file. \n",
    "# As a result, we need to specify the sheet name in the read_excel() method.\n",
    "# Put this data into a variable called properties.  \n",
    "properties = pd.read_excel(url_LondonHousePrices, sheet_name='Average price', index_col= None)"
   ]
  },
  {
   "cell_type": "markdown",
   "metadata": {
    "colab_type": "text",
    "id": "POukEJXgJpgu"
   },
   "source": [
    "### 2. Cleaning, transforming, and visualizing\n",
    "This second stage is arguably the most important part of any Data Science project. The first thing to do is take a proper look at the data. Cleaning forms the majority of this stage, and can be done both before or after Transformation.\n",
    "\n",
    "The end goal of data cleaning is to have tidy data. When data is tidy: \n",
    "\n",
    "1. Each variable has a column.\n",
    "2. Each observation forms a row.\n",
    "\n",
    "Keep the end goal in mind as you move through this process, every step will take you closer. \n",
    "\n",
    "\n",
    "\n",
    "***Hint:*** This part of the data science pipeline should test those skills you acquired in: \n",
    "- Intermediate Python for data science, all modules.\n",
    "- pandas Foundations, all modules. \n",
    "- Manipulating DataFrames with pandas, all modules.\n",
    "- Data Types for Data Science, Module Four.\n",
    "- Python Data Science Toolbox - Part One, all modules"
   ]
  },
  {
   "cell_type": "markdown",
   "metadata": {
    "colab_type": "text",
    "id": "Te0Q548tnzZa"
   },
   "source": [
    "**2.1. Exploring your data** \n",
    "\n",
    "Think about your pandas functions for checking out a dataframe. "
   ]
  },
  {
   "cell_type": "code",
   "execution_count": 410,
   "metadata": {
    "colab": {},
    "colab_type": "code",
    "id": "Rxirxw_qoAJa"
   },
   "outputs": [
    {
     "name": "stdout",
     "output_type": "stream",
     "text": [
      "<class 'pandas.core.frame.DataFrame'>\n",
      "RangeIndex: 316 entries, 0 to 315\n",
      "Data columns (total 49 columns):\n",
      " #   Column                Non-Null Count  Dtype         \n",
      "---  ------                --------------  -----         \n",
      " 0   Unnamed: 0            315 non-null    datetime64[ns]\n",
      " 1   City of London        316 non-null    object        \n",
      " 2   Barking & Dagenham    316 non-null    object        \n",
      " 3   Barnet                316 non-null    object        \n",
      " 4   Bexley                316 non-null    object        \n",
      " 5   Brent                 316 non-null    object        \n",
      " 6   Bromley               316 non-null    object        \n",
      " 7   Camden                316 non-null    object        \n",
      " 8   Croydon               316 non-null    object        \n",
      " 9   Ealing                316 non-null    object        \n",
      " 10  Enfield               316 non-null    object        \n",
      " 11  Greenwich             316 non-null    object        \n",
      " 12  Hackney               316 non-null    object        \n",
      " 13  Hammersmith & Fulham  316 non-null    object        \n",
      " 14  Haringey              316 non-null    object        \n",
      " 15  Harrow                316 non-null    object        \n",
      " 16  Havering              316 non-null    object        \n",
      " 17  Hillingdon            316 non-null    object        \n",
      " 18  Hounslow              316 non-null    object        \n",
      " 19  Islington             316 non-null    object        \n",
      " 20  Kensington & Chelsea  316 non-null    object        \n",
      " 21  Kingston upon Thames  316 non-null    object        \n",
      " 22  Lambeth               316 non-null    object        \n",
      " 23  Lewisham              316 non-null    object        \n",
      " 24  Merton                316 non-null    object        \n",
      " 25  Newham                316 non-null    object        \n",
      " 26  Redbridge             316 non-null    object        \n",
      " 27  Richmond upon Thames  316 non-null    object        \n",
      " 28  Southwark             316 non-null    object        \n",
      " 29  Sutton                316 non-null    object        \n",
      " 30  Tower Hamlets         316 non-null    object        \n",
      " 31  Waltham Forest        316 non-null    object        \n",
      " 32  Wandsworth            316 non-null    object        \n",
      " 33  Westminster           316 non-null    object        \n",
      " 34  Unnamed: 34           0 non-null      float64       \n",
      " 35  Inner London          316 non-null    object        \n",
      " 36  Outer London          316 non-null    object        \n",
      " 37  Unnamed: 37           0 non-null      float64       \n",
      " 38  NORTH EAST            316 non-null    object        \n",
      " 39  NORTH WEST            316 non-null    object        \n",
      " 40  YORKS & THE HUMBER    316 non-null    object        \n",
      " 41  EAST MIDLANDS         316 non-null    object        \n",
      " 42  WEST MIDLANDS         316 non-null    object        \n",
      " 43  EAST OF ENGLAND       316 non-null    object        \n",
      " 44  LONDON                316 non-null    object        \n",
      " 45  SOUTH EAST            316 non-null    object        \n",
      " 46  SOUTH WEST            316 non-null    object        \n",
      " 47  Unnamed: 47           0 non-null      float64       \n",
      " 48  England               316 non-null    object        \n",
      "dtypes: datetime64[ns](1), float64(3), object(45)\n",
      "memory usage: 121.1+ KB\n",
      "None\n",
      "  Unnamed: 0 City of London Barking & Dagenham     Barnet     Bexley  \\\n",
      "0        NaT      E09000001          E09000002  E09000003  E09000004   \n",
      "1 1995-01-01          91449            50460.2    93284.5    64958.1   \n",
      "2 1995-02-01        82202.8            51085.8    93190.2    64787.9   \n",
      "3 1995-03-01        79120.7              51269    92247.5    64367.5   \n",
      "4 1995-04-01        77101.2            53133.5    90762.9    64277.7   \n",
      "\n",
      "       Brent    Bromley     Camden    Croydon     Ealing  ... NORTH WEST  \\\n",
      "0  E09000005  E09000006  E09000007  E09000008  E09000009  ...  E12000002   \n",
      "1    71306.6    81671.5     120933    69158.2    79885.9  ...    43958.5   \n",
      "2    72022.3    81657.6     119509    68951.1    80897.1  ...    43925.4   \n",
      "3    72015.8    81449.3     120282    68712.4    81379.9  ...    44434.9   \n",
      "4    72965.6    81124.4     120098      68610    82188.9  ...    44267.8   \n",
      "\n",
      "  YORKS & THE HUMBER EAST MIDLANDS WEST MIDLANDS EAST OF ENGLAND     LONDON  \\\n",
      "0          E12000003     E12000004     E12000005       E12000006  E12000007   \n",
      "1            44803.4       45544.5       48527.5         56701.6    74435.8   \n",
      "2            44528.8       46051.6       49341.3         56593.6    72777.9   \n",
      "3            45200.5       45383.8       49442.2         56171.2    73896.8   \n",
      "4            45614.3       46124.2       49455.9         56567.9    74455.3   \n",
      "\n",
      "  SOUTH EAST SOUTH WEST Unnamed: 47    England  \n",
      "0  E12000008  E12000009         NaN  E92000001  \n",
      "1    64018.9    54705.2         NaN    53202.8  \n",
      "2      63715    54356.1         NaN    53096.2  \n",
      "3    64113.6    53583.1         NaN    53201.3  \n",
      "4    64623.2      54786         NaN    53590.9  \n",
      "\n",
      "[5 rows x 49 columns]\n"
     ]
    }
   ],
   "source": [
    "print(properties.info())\n",
    "print(properties.head(5))"
   ]
  },
  {
   "cell_type": "markdown",
   "metadata": {
    "colab_type": "text",
    "id": "tE9Sqt9-oAta"
   },
   "source": [
    "**2.2. Cleaning the data**\n",
    "\n",
    "You might find you need to transpose your dataframe, check out what its row indexes are, and reset the index. You  also might find you need to assign the values of the first row to your column headings  . (Hint: recall the .columns feature of DataFrames, as well as the iloc[] method).\n",
    "\n",
    "Don't be afraid to use StackOverflow for help  with this."
   ]
  },
  {
   "cell_type": "code",
   "execution_count": 411,
   "metadata": {
    "colab": {},
    "colab_type": "code",
    "id": "cdAu1A3YoH_r"
   },
   "outputs": [],
   "source": [
    "# Transposing\n",
    "df_T = properties.transpose()"
   ]
  },
  {
   "cell_type": "code",
   "execution_count": 412,
   "metadata": {},
   "outputs": [],
   "source": [
    "# assign the values of the first row to your column headings\n",
    "name_of_columns = df_T.iloc[0, :]\n",
    "df_T.columns = list(name_of_columns)"
   ]
  },
  {
   "cell_type": "code",
   "execution_count": 413,
   "metadata": {},
   "outputs": [
    {
     "name": "stdout",
     "output_type": "stream",
     "text": [
      "                          NaT           1995-01-01           1995-02-01  \\\n",
      "Unnamed: 0                NaT  1995-01-01 00:00:00  1995-02-01 00:00:00   \n",
      "City of London      E09000001                91449              82202.8   \n",
      "Barking & Dagenham  E09000002              50460.2              51085.8   \n",
      "Barnet              E09000003              93284.5              93190.2   \n",
      "Bexley              E09000004              64958.1              64787.9   \n",
      "\n",
      "                             1995-03-01           1995-04-01  \\\n",
      "Unnamed: 0          1995-03-01 00:00:00  1995-04-01 00:00:00   \n",
      "City of London                  79120.7              77101.2   \n",
      "Barking & Dagenham                51269              53133.5   \n",
      "Barnet                          92247.5              90762.9   \n",
      "Bexley                          64367.5              64277.7   \n",
      "\n",
      "                             1995-05-01           1995-06-01  \\\n",
      "Unnamed: 0          1995-05-01 00:00:00  1995-06-01 00:00:00   \n",
      "City of London                  84409.1              94900.5   \n",
      "Barking & Dagenham              53042.2              53700.3   \n",
      "Barnet                            90258              90107.2   \n",
      "Bexley                          63997.1              64252.3   \n",
      "\n",
      "                             1995-07-01           1995-08-01  \\\n",
      "Unnamed: 0          1995-07-01 00:00:00  1995-08-01 00:00:00   \n",
      "City of London                   110128               112329   \n",
      "Barking & Dagenham              52113.1              52232.2   \n",
      "Barnet                          91441.2              92361.3   \n",
      "Bexley                          63722.7              64432.6   \n",
      "\n",
      "                             1995-09-01  ...           2020-06-01  \\\n",
      "Unnamed: 0          1995-09-01 00:00:00  ...  2020-06-01 00:00:00   \n",
      "City of London                   104473  ...               882872   \n",
      "Barking & Dagenham              51471.6  ...               300526   \n",
      "Barnet                          93273.1  ...               518175   \n",
      "Bexley                          64509.5  ...               340893   \n",
      "\n",
      "                             2020-07-01           2020-08-01  \\\n",
      "Unnamed: 0          2020-07-01 00:00:00  2020-08-01 00:00:00   \n",
      "City of London                   786627               827659   \n",
      "Barking & Dagenham               304556               304924   \n",
      "Barnet                           523280               529660   \n",
      "Bexley                           344091               346680   \n",
      "\n",
      "                             2020-09-01           2020-10-01  \\\n",
      "Unnamed: 0          2020-09-01 00:00:00  2020-10-01 00:00:00   \n",
      "City of London                   798499               825742   \n",
      "Barking & Dagenham               301702               304764   \n",
      "Barnet                           533619               529762   \n",
      "Bexley                           345061               345459   \n",
      "\n",
      "                             2020-11-01           2020-12-01  \\\n",
      "Unnamed: 0          2020-11-01 00:00:00  2020-12-01 00:00:00   \n",
      "City of London                   770972               794277   \n",
      "Barking & Dagenham               305053               310281   \n",
      "Barnet                           530931               533160   \n",
      "Bexley                           347116               353710   \n",
      "\n",
      "                             2021-01-01           2021-02-01  \\\n",
      "Unnamed: 0          2021-01-01 00:00:00  2021-02-01 00:00:00   \n",
      "City of London                   762757               744324   \n",
      "Barking & Dagenham               314068               319589   \n",
      "Barnet                           541622               536096   \n",
      "Bexley                           358243               361861   \n",
      "\n",
      "                             2021-03-01  \n",
      "Unnamed: 0          2021-03-01 00:00:00  \n",
      "City of London                   864354  \n",
      "Barking & Dagenham               317185  \n",
      "Barnet                           534005  \n",
      "Bexley                           367015  \n",
      "\n",
      "[5 rows x 316 columns]\n"
     ]
    }
   ],
   "source": [
    "print(df_T.head(5))"
   ]
  },
  {
   "cell_type": "markdown",
   "metadata": {
    "colab_type": "text",
    "id": "o1uLbJAsoIjK"
   },
   "source": [
    "**2.3. Cleaning the data (part 2)**\n",
    "\n",
    "You might we have to **rename** a couple columns. How do you do this? The clue's pretty bold..."
   ]
  },
  {
   "cell_type": "code",
   "execution_count": 414,
   "metadata": {
    "colab": {},
    "colab_type": "code",
    "id": "GKkmn1AnoVZS"
   },
   "outputs": [],
   "source": [
    "#Create a new col of index\n",
    "df_T.reset_index(inplace=True)"
   ]
  },
  {
   "cell_type": "code",
   "execution_count": 415,
   "metadata": {},
   "outputs": [],
   "source": [
    "#Drop the row at index 0\n",
    "df_T.drop(labels=[0], axis=0, inplace=True)"
   ]
  },
  {
   "cell_type": "code",
   "execution_count": 416,
   "metadata": {},
   "outputs": [],
   "source": [
    "#Reset index again\n",
    "df_T.reset_index(inplace=True, drop=True)"
   ]
  },
  {
   "cell_type": "code",
   "execution_count": 417,
   "metadata": {},
   "outputs": [],
   "source": [
    "#Renaming columns:\n",
    "col_names = {\n",
    "    'index': 'London_Borough',\n",
    "    pd.NaT: 'ID',\n",
    "}\n",
    "df_T.rename(columns=col_names, inplace=True)"
   ]
  },
  {
   "cell_type": "code",
   "execution_count": 418,
   "metadata": {},
   "outputs": [
    {
     "name": "stdout",
     "output_type": "stream",
     "text": [
      "(48, 317)\n"
     ]
    }
   ],
   "source": [
    "print(df_T.shape)\n",
    "#print(df_T.head(3))"
   ]
  },
  {
   "cell_type": "markdown",
   "metadata": {
    "colab_type": "text",
    "id": "jy8BzXHmoWEw"
   },
   "source": [
    "**2.4.Transforming the data**\n",
    "\n",
    "Remember what Wes McKinney said about tidy data? \n",
    "\n",
    "You might need to **melt** your DataFrame here. "
   ]
  },
  {
   "cell_type": "code",
   "execution_count": 419,
   "metadata": {
    "colab": {},
    "colab_type": "code",
    "id": "S2wM0qLuo2Zt"
   },
   "outputs": [],
   "source": [
    "#Melting -> from wide to long\n",
    "melted_df = pd.melt(df_T, id_vars=['London_Borough', 'ID'])"
   ]
  },
  {
   "cell_type": "code",
   "execution_count": 420,
   "metadata": {},
   "outputs": [],
   "source": [
    "#Renaming columns again\n",
    "name_of_columns = {\n",
    "    'variable':'Month',\n",
    "    'value': \"Average_Price\",\n",
    "}\n",
    "melted_df.rename(columns=name_of_columns, inplace=True)"
   ]
  },
  {
   "cell_type": "code",
   "execution_count": 421,
   "metadata": {},
   "outputs": [],
   "source": [
    "#change the type of Price column\n",
    "melted_df['Average_Price'] = melted_df['Average_Price'].astype(float)\n"
   ]
  },
  {
   "cell_type": "code",
   "execution_count": 422,
   "metadata": {},
   "outputs": [
    {
     "name": "stdout",
     "output_type": "stream",
     "text": [
      "London_Borough            object\n",
      "ID                        object\n",
      "Month             datetime64[ns]\n",
      "Average_Price            float64\n",
      "dtype: object\n",
      "       London_Borough         ID      Month  Average_Price\n",
      "0      City of London  E09000001 1995-01-01    91448.98487\n",
      "1  Barking & Dagenham  E09000002 1995-01-01    50460.22660\n",
      "2              Barnet  E09000003 1995-01-01    93284.51832\n",
      "3              Bexley  E09000004 1995-01-01    64958.09036\n",
      "4               Brent  E09000005 1995-01-01    71306.56698\n"
     ]
    }
   ],
   "source": [
    "print(melted_df.dtypes)\n",
    "print(melted_df.head())"
   ]
  },
  {
   "cell_type": "markdown",
   "metadata": {
    "colab_type": "text",
    "id": "7kIsgAo7o3mf"
   },
   "source": [
    "Remember to make sure your column data types are all correct. Average prices, for example, should be floating point numbers... "
   ]
  },
  {
   "cell_type": "markdown",
   "metadata": {
    "colab_type": "text",
    "id": "knLUXHLypOtw"
   },
   "source": [
    "**2.5. Cleaning the data (part 3)**\n",
    "\n",
    "Do we have an equal number of observations in the ID, Average Price, Month, and London Borough columns? Remember that there are only 32 London Boroughs. How many entries do you have in that column? \n",
    "\n",
    "Check out the contents of the London Borough column, and if you find null values, get rid of them however you see fit. "
   ]
  },
  {
   "cell_type": "code",
   "execution_count": 423,
   "metadata": {
    "colab": {},
    "colab_type": "code",
    "id": "BnvTW5a3p0fC"
   },
   "outputs": [
    {
     "name": "stdout",
     "output_type": "stream",
     "text": [
      "['City of London' 'Barking & Dagenham' 'Barnet' 'Bexley' 'Brent' 'Bromley'\n",
      " 'Camden' 'Croydon' 'Ealing' 'Enfield' 'Greenwich' 'Hackney'\n",
      " 'Hammersmith & Fulham' 'Haringey' 'Harrow' 'Havering' 'Hillingdon'\n",
      " 'Hounslow' 'Islington' 'Kensington & Chelsea' 'Kingston upon Thames'\n",
      " 'Lambeth' 'Lewisham' 'Merton' 'Newham' 'Redbridge' 'Richmond upon Thames'\n",
      " 'Southwark' 'Sutton' 'Tower Hamlets' 'Waltham Forest' 'Wandsworth'\n",
      " 'Westminster' 'Unnamed: 34' 'Inner London' 'Outer London' 'Unnamed: 37'\n",
      " 'NORTH EAST' 'NORTH WEST' 'YORKS & THE HUMBER' 'EAST MIDLANDS'\n",
      " 'WEST MIDLANDS' 'EAST OF ENGLAND' 'LONDON' 'SOUTH EAST' 'SOUTH WEST'\n",
      " 'Unnamed: 47' 'England']\n",
      "(15120, 4)\n"
     ]
    }
   ],
   "source": [
    "#Check out the contents of the London Borough column, and if you find null values, get rid of them however you see fit.\n",
    "print(melted_df['London_Borough'].unique())\n",
    "print(melted_df.shape)\n",
    "drop_list = ['City of London', 'Unnamed: 34', 'Unnamed: 37', 'Unnamed: 47', 'Inner London', 'Outer London', 'NORTH EAST', 'NORTH WEST', 'YORKS & THE HUMBER', 'EAST MIDLANDS', 'WEST MIDLANDS', 'EAST OF ENGLAND', 'LONDON', 'SOUTH EAST', 'SOUTH WEST', 'England']\n",
    "df = melted_df[~melted_df['London_Borough'].isin(drop_list)]\n",
    "df.reset_index(drop=True, inplace=True)"
   ]
  },
  {
   "cell_type": "code",
   "execution_count": 424,
   "metadata": {},
   "outputs": [
    {
     "name": "stdout",
     "output_type": "stream",
     "text": [
      "['Barking & Dagenham' 'Barnet' 'Bexley' 'Brent' 'Bromley' 'Camden'\n",
      " 'Croydon' 'Ealing' 'Enfield' 'Greenwich' 'Hackney' 'Hammersmith & Fulham'\n",
      " 'Haringey' 'Harrow' 'Havering' 'Hillingdon' 'Hounslow' 'Islington'\n",
      " 'Kensington & Chelsea' 'Kingston upon Thames' 'Lambeth' 'Lewisham'\n",
      " 'Merton' 'Newham' 'Redbridge' 'Richmond upon Thames' 'Southwark' 'Sutton'\n",
      " 'Tower Hamlets' 'Waltham Forest' 'Wandsworth' 'Westminster']\n",
      "<class 'pandas.core.frame.DataFrame'>\n",
      "RangeIndex: 10080 entries, 0 to 10079\n",
      "Data columns (total 4 columns):\n",
      " #   Column          Non-Null Count  Dtype         \n",
      "---  ------          --------------  -----         \n",
      " 0   London_Borough  10080 non-null  object        \n",
      " 1   ID              10080 non-null  object        \n",
      " 2   Month           10080 non-null  datetime64[ns]\n",
      " 3   Average_Price   10080 non-null  float64       \n",
      "dtypes: datetime64[ns](1), float64(1), object(2)\n",
      "memory usage: 315.1+ KB\n",
      "None\n",
      "       London_Borough         ID      Month  Average_Price\n",
      "0  Barking & Dagenham  E09000002 1995-01-01    50460.22660\n",
      "1              Barnet  E09000003 1995-01-01    93284.51832\n",
      "2              Bexley  E09000004 1995-01-01    64958.09036\n",
      "3               Brent  E09000005 1995-01-01    71306.56698\n",
      "4             Bromley  E09000006 1995-01-01    81671.47692\n"
     ]
    }
   ],
   "source": [
    "print(df['London_Borough'].unique())\n",
    "print(df.info())\n",
    "df['Average_Price'].isnull().values.any()\n",
    "print(df.head(5))"
   ]
  },
  {
   "cell_type": "markdown",
   "metadata": {
    "colab_type": "text",
    "id": "PGEx6mJsp6dG"
   },
   "source": [
    "**2.6. Visualizing the data**\n",
    "\n",
    "To visualize the data, why not subset on a particular London Borough? Maybe do a line plot of Month against Average Price?"
   ]
  },
  {
   "cell_type": "code",
   "execution_count": 425,
   "metadata": {
    "colab": {},
    "colab_type": "code",
    "id": "nAg5pT9cqHAR"
   },
   "outputs": [],
   "source": [
    "#subset on a particular London Borough\n",
    "brent_borough = df[df['London_Borough'] == 'Brent']"
   ]
  },
  {
   "cell_type": "code",
   "execution_count": 426,
   "metadata": {},
   "outputs": [
    {
     "data": {
      "image/png": "[encoded data removed]",
      "text/plain": [
       "<Figure size 432x288 with 1 Axes>"
      ]
     },
     "metadata": {
      "needs_background": "light"
     },
     "output_type": "display_data"
    }
   ],
   "source": [
    "#do a line plot of Month against Average Price\n",
    "brent_borough.plot(kind='line', x='Month', y='Average_Price', title='Brent Borough (Living cost chart of 20 years)')\n",
    "plt.show()"
   ]
  },
  {
   "cell_type": "markdown",
   "metadata": {
    "colab_type": "text",
    "id": "aWTPqSJeqHnC"
   },
   "source": [
    "To limit the number of data points you have, you might want to extract the year from every month value your *Month* column. \n",
    "\n",
    "To this end, you *could* apply a ***lambda function***. Your logic could work as follows:\n",
    "1. look through the `Month` column\n",
    "2. extract the year from each individual value in that column \n",
    "3. store that corresponding year as separate column. \n",
    "\n",
    "Whether you go ahead with this is up to you. Just so long as you answer our initial brief: which boroughs of London have seen the greatest house price increase, on average, over the past two decades? "
   ]
  },
  {
   "cell_type": "code",
   "execution_count": 427,
   "metadata": {
    "colab": {},
    "colab_type": "code",
    "id": "e0DF92cyqnu8"
   },
   "outputs": [
    {
     "name": "stdout",
     "output_type": "stream",
     "text": [
      "       London_Borough         ID      Month  Average_Price  Year\n",
      "0  Barking & Dagenham  E09000002 1995-01-01    50460.22660  1995\n",
      "1              Barnet  E09000003 1995-01-01    93284.51832  1995\n",
      "2              Bexley  E09000004 1995-01-01    64958.09036  1995\n",
      "3               Brent  E09000005 1995-01-01    71306.56698  1995\n",
      "4             Bromley  E09000006 1995-01-01    81671.47692  1995\n"
     ]
    },
    {
     "name": "stderr",
     "output_type": "stream",
     "text": [
      "<ipython-input-427-5ece3459a689>:2: SettingWithCopyWarning: \n",
      "A value is trying to be set on a copy of a slice from a DataFrame.\n",
      "Try using .loc[row_indexer,col_indexer] = value instead\n",
      "\n",
      "See the caveats in the documentation: https://pandas.pydata.org/pandas-docs/stable/user_guide/indexing.html#returning-a-view-versus-a-copy\n",
      "  df['Year'] = df.loc[:, 'Month'].apply(lambda x: x.year)\n"
     ]
    }
   ],
   "source": [
    "#to limit the number of data points you have, you might want to extract the year from every month value your Month column.\n",
    "df['Year'] = df.loc[:, 'Month'].apply(lambda x: x.year)\n",
    "print(df.head())"
   ]
  },
  {
   "cell_type": "code",
   "execution_count": 428,
   "metadata": {},
   "outputs": [
    {
     "name": "stdout",
     "output_type": "stream",
     "text": [
      "       London_Borough  Year  Average_Price\n",
      "0  Barking & Dagenham  1995   51817.969390\n",
      "1  Barking & Dagenham  1996   51718.192690\n",
      "2  Barking & Dagenham  1997   55974.262309\n",
      "3  Barking & Dagenham  1998   60285.821083\n",
      "4  Barking & Dagenham  1999   65320.934441\n"
     ]
    }
   ],
   "source": [
    "group_by_borough_year = df.groupby(by=['London_Borough', 'Year']).mean()\n",
    "group_by_borough_year = group_by_borough_year.reset_index()\n",
    "print(group_by_borough_year.head())"
   ]
  },
  {
   "cell_type": "markdown",
   "metadata": {
    "colab_type": "text",
    "id": "2knuTxAEqoJ4"
   },
   "source": [
    "**3. Modeling**\n",
    "\n",
    "Consider creating a function that will calculate a ratio of house prices, comparing the price of a house in 2018 to the price in 1998.\n",
    "\n",
    "Consider calling this function create_price_ratio.\n",
    "\n",
    "You'd want this function to:\n",
    "1. Take a filter of dfg, specifically where this filter constrains the London_Borough, as an argument. For example, one admissible argument should be: dfg[dfg['London_Borough']=='Camden'].\n",
    "2. Get the Average Price for that Borough, for the years 1998 and 2018.\n",
    "4. Calculate the ratio of the Average Price for 1998 divided by the Average Price for 2018.\n",
    "5. Return that ratio.\n",
    "\n",
    "Once you've written this function, you ultimately want to use it to iterate through all the unique London_Boroughs and work out the ratio capturing the difference of house prices between 1998 and 2018.\n",
    "\n",
    "Bear in mind: you don't have to write a function like this if you don't want to. If you can solve the brief otherwise, then great! \n",
    "\n",
    "***Hint***: This section should test the skills you acquired in:\n",
    "- Python Data Science Toolbox - Part One, all modules"
   ]
  },
  {
   "cell_type": "code",
   "execution_count": 429,
   "metadata": {
    "colab": {},
    "colab_type": "code",
    "id": "cKTyr437UgDa"
   },
   "outputs": [],
   "source": [
    "def create_price_ration(arg):\n",
    "    in_1998 = float(arg['Average_Price'][arg['Year'] == 1998])\n",
    "    in_2018 = float(arg['Average_Price'][arg['Year'] == 2018])\n",
    "    return [in_2018 / in_1998] "
   ]
  },
  {
   "cell_type": "code",
   "execution_count": 430,
   "metadata": {},
   "outputs": [
    {
     "data": {
      "text/plain": [
       "[4.935353408884261]"
      ]
     },
     "execution_count": 430,
     "metadata": {},
     "output_type": "execute_result"
    }
   ],
   "source": [
    "create_price_ration(group_by_borough_year[group_by_borough_year['London_Borough'] == 'Camden'])"
   ]
  },
  {
   "cell_type": "code",
   "execution_count": 431,
   "metadata": {},
   "outputs": [
    {
     "name": "stdout",
     "output_type": "stream",
     "text": [
      "{'Barking & Dagenham': [4.89661861291754], 'Barnet': [4.358195917538044], 'Bexley': [4.248977046127877], 'Brent': [4.8945544971392865], 'Bromley': [4.0947846853338765], 'Camden': [4.935353408884261], 'Croydon': [4.201100280024767], 'Ealing': [4.311450902121834], 'Enfield': [4.26347158349581], 'Greenwich': [4.763036347329193], 'Hackney': [6.198285561008662], 'Hammersmith & Fulham': [4.137798101936229], 'Haringey': [5.134624964136042], 'Harrow': [4.0591964329643195], 'Havering': [4.325230371335308], 'Hillingdon': [4.2002730803844575], 'Hounslow': [3.976409106143329], 'Islington': [4.844048012802298], 'Kensington & Chelsea': [5.082465066092464], 'Kingston upon Thames': [4.270549521484271], 'Lambeth': [4.957751163514063], 'Lewisham': [5.449221041059685], 'Merton': [4.741273313294604], 'Newham': [5.305390437201879], 'Redbridge': [4.471182006097364], 'Richmond upon Thames': [4.005161895721457], 'Southwark': [5.516485302379376], 'Sutton': [4.118522608573157], 'Tower Hamlets': [4.62670104006116], 'Waltham Forest': [5.83475580932281], 'Wandsworth': [4.757709347739269], 'Westminster': [5.353565392605413]}\n"
     ]
    }
   ],
   "source": [
    "result = {}\n",
    "for borough in group_by_borough_year['London_Borough'].unique():\n",
    "    result[borough] = create_price_ration(group_by_borough_year[group_by_borough_year['London_Borough'] == borough])\n",
    "print(result)"
   ]
  },
  {
   "cell_type": "code",
   "execution_count": 432,
   "metadata": {},
   "outputs": [
    {
     "name": "stdout",
     "output_type": "stream",
     "text": [
      "   Barking & Dagenham    Barnet    Bexley     Brent   Bromley    Camden  \\\n",
      "0            4.896619  4.358196  4.248977  4.894554  4.094785  4.935353   \n",
      "\n",
      "   Croydon    Ealing   Enfield  Greenwich  ...    Merton   Newham  Redbridge  \\\n",
      "0   4.2011  4.311451  4.263472   4.763036  ...  4.741273  5.30539   4.471182   \n",
      "\n",
      "   Richmond upon Thames  Southwark    Sutton  Tower Hamlets  Waltham Forest  \\\n",
      "0              4.005162   5.516485  4.118523       4.626701        5.834756   \n",
      "\n",
      "   Wandsworth  Westminster  \n",
      "0    4.757709     5.353565  \n",
      "\n",
      "[1 rows x 32 columns]\n"
     ]
    }
   ],
   "source": [
    "df = pd.DataFrame(result)\n",
    "print(df.head(5))"
   ]
  },
  {
   "cell_type": "code",
   "execution_count": 433,
   "metadata": {},
   "outputs": [
    {
     "name": "stdout",
     "output_type": "stream",
     "text": [
      "                             0\n",
      "Barking & Dagenham    4.896619\n",
      "Barnet                4.358196\n",
      "Bexley                4.248977\n",
      "Brent                 4.894554\n",
      "Bromley               4.094785\n",
      "Camden                4.935353\n",
      "Croydon               4.201100\n",
      "Ealing                4.311451\n",
      "Enfield               4.263472\n",
      "Greenwich             4.763036\n",
      "Hackney               6.198286\n",
      "Hammersmith & Fulham  4.137798\n",
      "Haringey              5.134625\n",
      "Harrow                4.059196\n",
      "Havering              4.325230\n",
      "Hillingdon            4.200273\n",
      "Hounslow              3.976409\n",
      "Islington             4.844048\n",
      "Kensington & Chelsea  5.082465\n",
      "Kingston upon Thames  4.270550\n",
      "Lambeth               4.957751\n",
      "Lewisham              5.449221\n",
      "Merton                4.741273\n",
      "Newham                5.305390\n",
      "Redbridge             4.471182\n",
      "Richmond upon Thames  4.005162\n",
      "Southwark             5.516485\n",
      "Sutton                4.118523\n",
      "Tower Hamlets         4.626701\n",
      "Waltham Forest        5.834756\n",
      "Wandsworth            4.757709\n",
      "Westminster           5.353565\n"
     ]
    }
   ],
   "source": [
    "df = df.transpose()\n",
    "print(df)"
   ]
  },
  {
   "cell_type": "code",
   "execution_count": 434,
   "metadata": {},
   "outputs": [
    {
     "name": "stdout",
     "output_type": "stream",
     "text": [
      "                index         0\n",
      "0  Barking & Dagenham  4.896619\n",
      "1              Barnet  4.358196\n",
      "2              Bexley  4.248977\n",
      "3               Brent  4.894554\n",
      "4             Bromley  4.094785\n"
     ]
    }
   ],
   "source": [
    "df.reset_index(inplace=True)\n",
    "print(df.head(5))"
   ]
  },
  {
   "cell_type": "code",
   "execution_count": 435,
   "metadata": {},
   "outputs": [
    {
     "name": "stdout",
     "output_type": "stream",
     "text": [
      "       London_Borough     Ratio\n",
      "0  Barking & Dagenham  4.896619\n",
      "1              Barnet  4.358196\n",
      "2              Bexley  4.248977\n",
      "3               Brent  4.894554\n",
      "4             Bromley  4.094785\n"
     ]
    }
   ],
   "source": [
    "col_names = {\n",
    "    'index': 'London_Borough',\n",
    "    0:'Ratio'\n",
    "}\n",
    "df.rename(columns=col_names, inplace=True)\n",
    "print(df.head(5))"
   ]
  },
  {
   "cell_type": "code",
   "execution_count": 440,
   "metadata": {},
   "outputs": [
    {
     "name": "stdout",
     "output_type": "stream",
     "text": [
      "    London_Borough     Ratio\n",
      "10         Hackney  6.198286\n",
      "29  Waltham Forest  5.834756\n",
      "26       Southwark  5.516485\n",
      "21        Lewisham  5.449221\n",
      "31     Westminster  5.353565\n"
     ]
    }
   ],
   "source": [
    "df.sort_values(by='Ratio', ascending=False, inplace=True)\n",
    "print(df.head())"
   ]
  },
  {
   "cell_type": "code",
   "execution_count": 451,
   "metadata": {},
   "outputs": [
    {
     "name": "stdout",
     "output_type": "stream",
     "text": [
      "          London_Borough     Ratio\n",
      "10               Hackney  6.198286\n",
      "29        Waltham Forest  5.834756\n",
      "26             Southwark  5.516485\n",
      "21              Lewisham  5.449221\n",
      "31           Westminster  5.353565\n",
      "23                Newham  5.305390\n",
      "12              Haringey  5.134625\n",
      "18  Kensington & Chelsea  5.082465\n",
      "20               Lambeth  4.957751\n",
      "5                 Camden  4.935353\n",
      "0     Barking & Dagenham  4.896619\n",
      "3                  Brent  4.894554\n",
      "17             Islington  4.844048\n",
      "9              Greenwich  4.763036\n",
      "30            Wandsworth  4.757709\n",
      "22                Merton  4.741273\n",
      "28         Tower Hamlets  4.626701\n",
      "24             Redbridge  4.471182\n",
      "1                 Barnet  4.358196\n",
      "14              Havering  4.325230 (20, 2)\n"
     ]
    }
   ],
   "source": [
    "top_20 = df.head(20)\n",
    "print(top_20, top_20.shape)"
   ]
  },
  {
   "cell_type": "code",
   "execution_count": 458,
   "metadata": {},
   "outputs": [
    {
     "data": {
      "image/png": "[encoded data removed]",
      "text/plain": [
       "<Figure size 432x288 with 1 Axes>"
      ]
     },
     "metadata": {
      "needs_background": "light"
     },
     "output_type": "display_data"
    }
   ],
   "source": [
    "top_20.plot(kind='bar').set_xticklabels(top_20.London_Borough)\n",
    "plt.show()"
   ]
  },
  {
   "cell_type": "markdown",
   "metadata": {
    "colab_type": "text",
    "id": "NzYUI7FxJpgv"
   },
   "source": [
    "### 4. Conclusion\n",
    "What can you conclude? Type out your conclusion below. \n",
    "\n",
    "Look back at your notebook. Think about how you might summarize what you have done, and prepare a quick presentation on it to your mentor at your next meeting. \n",
    "\n",
    "We hope you enjoyed this practical project. It should have consolidated your data hygiene and pandas skills by looking at a real-world problem involving just the kind of dataset you might encounter as a budding data scientist. Congratulations, and looking forward to seeing you at the next step in the course! "
   ]
  }
 ],
 "metadata": {
  "colab": {
   "collapsed_sections": [],
   "name": "Springboard Data Science Career Track Unit 4 Challenge - Tier 3 Complete .ipynb",
   "provenance": []
  },
  "kernelspec": {
   "display_name": "Python 3",
   "language": "python",
   "name": "python3"
  },
  "language_info": {
   "codemirror_mode": {
    "name": "ipython",
    "version": 3
   },
   "file_extension": ".py",
   "mimetype": "text/x-python",
   "name": "python",
   "nbconvert_exporter": "python",
   "pygments_lexer": "ipython3",
   "version": "3.8.5"
  }
 },
 "nbformat": 4,
 "nbformat_minor": 1
}
